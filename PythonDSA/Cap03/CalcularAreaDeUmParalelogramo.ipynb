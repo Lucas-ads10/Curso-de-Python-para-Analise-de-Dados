{
 "cells": [
  {
   "cell_type": "code",
   "execution_count": 2,
   "id": "83e58d7d",
   "metadata": {},
   "outputs": [
    {
     "name": "stdout",
     "output_type": "stream",
     "text": [
      "Bem-vindo ao Cauculador de Área de Paralelogramo\n"
     ]
    }
   ],
   "source": [
    "print(\"Bem-vindo ao Cauculador de Área de Paralelogramo\")"
   ]
  },
  {
   "cell_type": "code",
   "execution_count": 4,
   "id": "9d8069ff",
   "metadata": {},
   "outputs": [
    {
     "name": "stdout",
     "output_type": "stream",
     "text": [
      "Insira o comprimento da base: 4\n"
     ]
    }
   ],
   "source": [
    "base = float(input(\"Insira o comprimento da base: \"))  "
   ]
  },
  {
   "cell_type": "code",
   "execution_count": 5,
   "id": "348c8c4d",
   "metadata": {},
   "outputs": [
    {
     "name": "stdout",
     "output_type": "stream",
     "text": [
      "Insira a altura: 6\n"
     ]
    }
   ],
   "source": [
    "altura = float(input(\"Insira a altura: \"))"
   ]
  },
  {
   "cell_type": "code",
   "execution_count": 12,
   "id": "081c65e4",
   "metadata": {},
   "outputs": [],
   "source": [
    "area = base * altura "
   ]
  },
  {
   "cell_type": "code",
   "execution_count": 13,
   "id": "002525a8",
   "metadata": {},
   "outputs": [
    {
     "name": "stdout",
     "output_type": "stream",
     "text": [
      "A área do paralelograma é:  24.0\n"
     ]
    }
   ],
   "source": [
    "print (\"A área do paralelograma é: \", area)"
   ]
  }
 ],
 "metadata": {
  "kernelspec": {
   "display_name": "Python 3 (ipykernel)",
   "language": "python",
   "name": "python3"
  },
  "language_info": {
   "codemirror_mode": {
    "name": "ipython",
    "version": 3
   },
   "file_extension": ".py",
   "mimetype": "text/x-python",
   "name": "python",
   "nbconvert_exporter": "python",
   "pygments_lexer": "ipython3",
   "version": "3.9.13"
  }
 },
 "nbformat": 4,
 "nbformat_minor": 5
}
