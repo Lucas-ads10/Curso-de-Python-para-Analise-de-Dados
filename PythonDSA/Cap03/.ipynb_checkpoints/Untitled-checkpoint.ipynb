{
 "cells": [
  {
   "cell_type": "code",
   "execution_count": 57,
   "id": "63db6e08",
   "metadata": {},
   "outputs": [
    {
     "name": "stdout",
     "output_type": "stream",
     "text": [
      "Cauculadora simples\n"
     ]
    }
   ],
   "source": [
    "print(\"Cauculadora simples\")"
   ]
  },
  {
   "cell_type": "code",
   "execution_count": 58,
   "id": "1d44e9aa",
   "metadata": {},
   "outputs": [
    {
     "name": "stdout",
     "output_type": "stream",
     "text": [
      "Digite o primeiro número: 4\n"
     ]
    }
   ],
   "source": [
    "num1 = float(input(\"Digite o primeiro número: \"))"
   ]
  },
  {
   "cell_type": "code",
   "execution_count": 60,
   "id": "61f81d55",
   "metadata": {},
   "outputs": [
    {
     "name": "stdout",
     "output_type": "stream",
     "text": [
      "Digite o segundo número: 2\n"
     ]
    }
   ],
   "source": [
    "num2 = float(input(\"Digite o segundo número: \"))"
   ]
  },
  {
   "cell_type": "code",
   "execution_count": 61,
   "id": "13dc3ace",
   "metadata": {},
   "outputs": [
    {
     "name": "stdout",
     "output_type": "stream",
     "text": [
      "Selecione uma operação (+, -, *, /): -\n"
     ]
    }
   ],
   "source": [
    "operacao = input(\"Selecione uma operação (+, -, *, /): \")"
   ]
  },
  {
   "cell_type": "code",
   "execution_count": 64,
   "id": "665defaa",
   "metadata": {},
   "outputs": [
    {
     "name": "stdout",
     "output_type": "stream",
     "text": [
      "O resultado é  2.0\n"
     ]
    }
   ],
   "source": [
    "if operacao == \"+\":\n",
    "    resultado = num1 + num2 \n",
    "    print(\"O resultado é \", resultado)\n",
    "\n",
    "elif operacao == \"-\":\n",
    "    resultado = num1 - num2 \n",
    "    print(\"O resultado é \", resultado)\n",
    "    \n",
    "elif operacao == \"*\":\n",
    "    resultado = num1 * num2 \n",
    "    print(\"O resultado é \", resultado)\n",
    "    \n",
    "    \n",
    "elif operacao == \"/\":\n",
    "    resultado = num1 / num2 \n",
    "    print(\"O resultado é \", resultado)\n",
    "    \n",
    "else:\n",
    "    print(\"Operação inválida.\")\n"
   ]
  }
 ],
 "metadata": {
  "kernelspec": {
   "display_name": "Python 3 (ipykernel)",
   "language": "python",
   "name": "python3"
  },
  "language_info": {
   "codemirror_mode": {
    "name": "ipython",
    "version": 3
   },
   "file_extension": ".py",
   "mimetype": "text/x-python",
   "name": "python",
   "nbconvert_exporter": "python",
   "pygments_lexer": "ipython3",
   "version": "3.9.13"
  }
 },
 "nbformat": 4,
 "nbformat_minor": 5
}
