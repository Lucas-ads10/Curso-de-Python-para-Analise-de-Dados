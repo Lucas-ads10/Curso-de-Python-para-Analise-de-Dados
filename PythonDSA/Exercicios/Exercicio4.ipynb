{
 "cells": [
  {
   "cell_type": "code",
   "execution_count": null,
   "id": "71bf4f8a",
   "metadata": {},
   "outputs": [],
   "source": [
    "# Exercício 4 - Crie uma tupla com os seguintes elementos: 1, 2, 2, 3, 4, 4, 4, 5 e depois utilize a função count do \n",
    "# objeto tupla para verificar quantas vezes o número 4 aparece na tupla"
   ]
  },
  {
   "cell_type": "code",
   "execution_count": null,
   "id": "099a8e2d",
   "metadata": {},
   "outputs": [],
   "source": [
    "tupla1 = (1, 2, 2, 3, 4, 4, 4, 5)"
   ]
  },
  {
   "cell_type": "code",
   "execution_count": null,
   "id": "fffad02c",
   "metadata": {},
   "outputs": [],
   "source": [
    "type(tupla1)"
   ]
  },
  {
   "cell_type": "code",
   "execution_count": null,
   "id": "a7dad5b9",
   "metadata": {
    "scrolled": true
   },
   "outputs": [],
   "source": [
    "tupla1.count(4)"
   ]
  }
 ],
 "metadata": {
  "kernelspec": {
   "display_name": "Python 3 (ipykernel)",
   "language": "python",
   "name": "python3"
  },
  "language_info": {
   "codemirror_mode": {
    "name": "ipython",
    "version": 3
   },
   "file_extension": ".py",
   "mimetype": "text/x-python",
   "name": "python",
   "nbconvert_exporter": "python",
   "pygments_lexer": "ipython3",
   "version": "3.9.13"
  }
 },
 "nbformat": 4,
 "nbformat_minor": 5
}
