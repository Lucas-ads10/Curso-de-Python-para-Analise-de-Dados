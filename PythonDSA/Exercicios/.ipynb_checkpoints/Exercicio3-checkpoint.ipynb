{
 "cells": [
  {
   "cell_type": "code",
   "execution_count": null,
   "id": "705f017f",
   "metadata": {},
   "outputs": [],
   "source": [
    "# Exercício 3 - Crie duas strings e concatene as duas em uma terceira string"
   ]
  },
  {
   "cell_type": "code",
   "execution_count": null,
   "id": "4f5be744",
   "metadata": {},
   "outputs": [],
   "source": [
    "s1 = \"O Python é uma linguagem de programação amplamente usada em aplicações da Web, desenvolvimento de software e etc.\""
   ]
  },
  {
   "cell_type": "code",
   "execution_count": null,
   "id": "45f2c0a3",
   "metadata": {},
   "outputs": [],
   "source": [
    "print(s1)"
   ]
  },
  {
   "cell_type": "code",
   "execution_count": null,
   "id": "98e0f4c6",
   "metadata": {},
   "outputs": [],
   "source": [
    "s2 = \"Os desenvolvedores usam o Python porque é eficiente, fácil e pode ser executada em muitas plataformas diferentes.\""
   ]
  },
  {
   "cell_type": "code",
   "execution_count": null,
   "id": "c5236a42",
   "metadata": {},
   "outputs": [],
   "source": [
    "print(s2)"
   ]
  },
  {
   "cell_type": "code",
   "execution_count": null,
   "id": "1b70ac47",
   "metadata": {},
   "outputs": [],
   "source": [
    "s3 = s1 + s2"
   ]
  },
  {
   "cell_type": "code",
   "execution_count": null,
   "id": "46223658",
   "metadata": {},
   "outputs": [],
   "source": [
    "print(s3)"
   ]
  }
 ],
 "metadata": {
  "kernelspec": {
   "display_name": "Python 3 (ipykernel)",
   "language": "python",
   "name": "python3"
  },
  "language_info": {
   "codemirror_mode": {
    "name": "ipython",
    "version": 3
   },
   "file_extension": ".py",
   "mimetype": "text/x-python",
   "name": "python",
   "nbconvert_exporter": "python",
   "pygments_lexer": "ipython3",
   "version": "3.9.13"
  }
 },
 "nbformat": 4,
 "nbformat_minor": 5
}
