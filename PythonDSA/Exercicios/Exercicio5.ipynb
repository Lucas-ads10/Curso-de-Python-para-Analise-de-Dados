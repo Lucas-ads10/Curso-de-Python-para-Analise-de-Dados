{
 "cells": [
  {
   "cell_type": "code",
   "execution_count": null,
   "id": "24c96c76",
   "metadata": {},
   "outputs": [],
   "source": [
    "# Exercício 5 - Crie um dicionário vazio e imprima na tela"
   ]
  },
  {
   "cell_type": "code",
   "execution_count": null,
   "id": "9454eb0e",
   "metadata": {},
   "outputs": [],
   "source": [
    "di1 = { }"
   ]
  },
  {
   "cell_type": "code",
   "execution_count": null,
   "id": "d806b2c3",
   "metadata": {},
   "outputs": [],
   "source": [
    "type(di1)"
   ]
  },
  {
   "cell_type": "code",
   "execution_count": null,
   "id": "061683a3",
   "metadata": {},
   "outputs": [],
   "source": [
    "print(di1)"
   ]
  }
 ],
 "metadata": {
  "kernelspec": {
   "display_name": "Python 3 (ipykernel)",
   "language": "python",
   "name": "python3"
  },
  "language_info": {
   "codemirror_mode": {
    "name": "ipython",
    "version": 3
   },
   "file_extension": ".py",
   "mimetype": "text/x-python",
   "name": "python",
   "nbconvert_exporter": "python",
   "pygments_lexer": "ipython3",
   "version": "3.9.13"
  }
 },
 "nbformat": 4,
 "nbformat_minor": 5
}
