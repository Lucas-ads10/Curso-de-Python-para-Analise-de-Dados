{
 "cells": [
  {
   "cell_type": "code",
   "execution_count": null,
   "id": "a475454e",
   "metadata": {},
   "outputs": [],
   "source": [
    "# Exercício 7 - Adicione mais um elemento ao dicionário criado no exercício anterior e imprima na tela"
   ]
  },
  {
   "cell_type": "code",
   "execution_count": null,
   "id": "fb6fc936",
   "metadata": {},
   "outputs": [],
   "source": [
    "dic = {\"l1\": \"celular\", \"l2\": \"computador\", \"l3\": \"monitor\"}"
   ]
  },
  {
   "cell_type": "code",
   "execution_count": null,
   "id": "00135d78",
   "metadata": {},
   "outputs": [],
   "source": [
    "dic [\"l4\"] = \"teclado\""
   ]
  },
  {
   "cell_type": "code",
   "execution_count": null,
   "id": "847f0b6d",
   "metadata": {},
   "outputs": [],
   "source": [
    "print(dic)"
   ]
  }
 ],
 "metadata": {
  "kernelspec": {
   "display_name": "Python 3 (ipykernel)",
   "language": "python",
   "name": "python3"
  },
  "language_info": {
   "codemirror_mode": {
    "name": "ipython",
    "version": 3
   },
   "file_extension": ".py",
   "mimetype": "text/x-python",
   "name": "python",
   "nbconvert_exporter": "python",
   "pygments_lexer": "ipython3",
   "version": "3.9.13"
  }
 },
 "nbformat": 4,
 "nbformat_minor": 5
}
