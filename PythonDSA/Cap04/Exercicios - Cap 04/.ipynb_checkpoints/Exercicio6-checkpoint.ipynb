{
 "cells": [
  {
   "cell_type": "code",
   "execution_count": null,
   "id": "24e918f7",
   "metadata": {},
   "outputs": [],
   "source": [
    "# Exercício 6 - Crie um dicionário com 3 chaves e 3 valores e imprima na tela"
   ]
  },
  {
   "cell_type": "code",
   "execution_count": null,
   "id": "63f63da0",
   "metadata": {},
   "outputs": [],
   "source": [
    "dic = {\"l1\": \"celular\", \"l2\": \"computador\", \"l3\": \"monitor\"}"
   ]
  },
  {
   "cell_type": "code",
   "execution_count": null,
   "id": "280b1104",
   "metadata": {},
   "outputs": [],
   "source": [
    "type(dic)"
   ]
  },
  {
   "cell_type": "code",
   "execution_count": null,
   "id": "fbe1118f",
   "metadata": {},
   "outputs": [],
   "source": [
    "print(dic)"
   ]
  }
 ],
 "metadata": {
  "kernelspec": {
   "display_name": "Python 3 (ipykernel)",
   "language": "python",
   "name": "python3"
  },
  "language_info": {
   "codemirror_mode": {
    "name": "ipython",
    "version": 3
   },
   "file_extension": ".py",
   "mimetype": "text/x-python",
   "name": "python",
   "nbconvert_exporter": "python",
   "pygments_lexer": "ipython3",
   "version": "3.9.13"
  }
 },
 "nbformat": 4,
 "nbformat_minor": 5
}
