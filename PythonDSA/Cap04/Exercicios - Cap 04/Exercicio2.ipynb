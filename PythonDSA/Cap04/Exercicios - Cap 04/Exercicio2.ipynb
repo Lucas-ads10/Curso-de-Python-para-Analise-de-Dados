{
 "cells": [
  {
   "cell_type": "code",
   "execution_count": null,
   "id": "e49af1fd",
   "metadata": {},
   "outputs": [],
   "source": [
    "# Exercício 2 - Crie uma lista de 5 objetos e imprima na tela"
   ]
  },
  {
   "cell_type": "code",
   "execution_count": null,
   "id": "783693d2",
   "metadata": {},
   "outputs": [],
   "source": [
    "lista1 = [\"mesa, sapato, cubo magico, celular, notebook\"]"
   ]
  },
  {
   "cell_type": "code",
   "execution_count": null,
   "id": "dc7a2d4a",
   "metadata": {},
   "outputs": [],
   "source": [
    "type(lista1)"
   ]
  },
  {
   "cell_type": "code",
   "execution_count": null,
   "id": "6ceb23f1",
   "metadata": {},
   "outputs": [],
   "source": [
    "print(lista1)"
   ]
  }
 ],
 "metadata": {
  "kernelspec": {
   "display_name": "Python 3 (ipykernel)",
   "language": "python",
   "name": "python3"
  },
  "language_info": {
   "codemirror_mode": {
    "name": "ipython",
    "version": 3
   },
   "file_extension": ".py",
   "mimetype": "text/x-python",
   "name": "python",
   "nbconvert_exporter": "python",
   "pygments_lexer": "ipython3",
   "version": "3.9.13"
  }
 },
 "nbformat": 4,
 "nbformat_minor": 5
}
