{
 "cells": [
  {
   "cell_type": "code",
   "execution_count": null,
   "id": "e80a1033",
   "metadata": {},
   "outputs": [],
   "source": [
    "# Exercício 4 - Crie uma função que receba um argumento formal e uma possível lista de elementos. Faça duas chamadas \n",
    "# à função, com apenas 1 elemento e na segunda chamada com 4 elementos"
   ]
  },
  {
   "cell_type": "code",
   "execution_count": null,
   "id": "05824c23",
   "metadata": {},
   "outputs": [],
   "source": [
    "def listas4(agr1, *lista1 ):\n",
    "    print (\"O parâmetro passado foi: \", agr1)\n",
    "    for intem in lista1:\n",
    "        print(\"Os parâmetros passados foram: \", intem)\n",
    "    return"
   ]
  },
  {
   "cell_type": "code",
   "execution_count": null,
   "id": "42e2aad3",
   "metadata": {},
   "outputs": [],
   "source": [
    "listas4(\"Notebok\")"
   ]
  },
  {
   "cell_type": "code",
   "execution_count": null,
   "id": "101abeaf",
   "metadata": {},
   "outputs": [],
   "source": [
    "listas4(\"Notebook\", \"Teclado\", \"Monitor\", \"Mouse\")"
   ]
  }
 ],
 "metadata": {
  "kernelspec": {
   "display_name": "Python 3 (ipykernel)",
   "language": "python",
   "name": "python3"
  },
  "language_info": {
   "codemirror_mode": {
    "name": "ipython",
    "version": 3
   },
   "file_extension": ".py",
   "mimetype": "text/x-python",
   "name": "python",
   "nbconvert_exporter": "python",
   "pygments_lexer": "ipython3",
   "version": "3.9.13"
  }
 },
 "nbformat": 4,
 "nbformat_minor": 5
}
