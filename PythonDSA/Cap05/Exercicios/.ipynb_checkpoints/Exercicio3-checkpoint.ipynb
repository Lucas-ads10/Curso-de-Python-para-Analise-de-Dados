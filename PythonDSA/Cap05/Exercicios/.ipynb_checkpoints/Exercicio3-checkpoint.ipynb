{
 "cells": [
  {
   "cell_type": "code",
   "execution_count": null,
   "id": "2da6e301",
   "metadata": {},
   "outputs": [],
   "source": [
    "# Exercício 3 - Crie uma função que receba como parâmetro uma lista de 4 elementos, adicione 2 elementos a lista e \n",
    "# imprima a lista"
   ]
  },
  {
   "cell_type": "code",
   "execution_count": null,
   "id": "07e3bbec",
   "metadata": {},
   "outputs": [],
   "source": [
    "def lista3(lista):\n",
    "    print(lista.append(5))\n",
    "    print(lista.append(6))"
   ]
  },
  {
   "cell_type": "code",
   "execution_count": null,
   "id": "d695861f",
   "metadata": {},
   "outputs": [],
   "source": [
    "lista1 = [1, 2, 3, 4]"
   ]
  },
  {
   "cell_type": "code",
   "execution_count": null,
   "id": "aaf97faa",
   "metadata": {},
   "outputs": [],
   "source": [
    "lista3(lista1)\n",
    "print(lista1)"
   ]
  }
 ],
 "metadata": {
  "kernelspec": {
   "display_name": "Python 3 (ipykernel)",
   "language": "python",
   "name": "python3"
  },
  "language_info": {
   "codemirror_mode": {
    "name": "ipython",
    "version": 3
   },
   "file_extension": ".py",
   "mimetype": "text/x-python",
   "name": "python",
   "nbconvert_exporter": "python",
   "pygments_lexer": "ipython3",
   "version": "3.9.13"
  }
 },
 "nbformat": 4,
 "nbformat_minor": 5
}
