{
 "cells": [
  {
   "cell_type": "code",
   "execution_count": null,
   "id": "70ccea76",
   "metadata": {},
   "outputs": [],
   "source": [
    "# Exercício 1 - Crie uma função que imprima a sequência de números pares entre 1 e 20 (a função não recebe parâmetro) \n",
    "# e depois faça uma chamada à função para listar os números "
   ]
  },
  {
   "cell_type": "code",
   "execution_count": null,
   "id": "0f58bf4b",
   "metadata": {},
   "outputs": [],
   "source": [
    "def listapar():\n",
    "    for n in range(2, 21, 2): print(\"Número \" + str(n)) "
   ]
  },
  {
   "cell_type": "code",
   "execution_count": null,
   "id": "d401a877",
   "metadata": {},
   "outputs": [],
   "source": [
    "listapar()"
   ]
  }
 ],
 "metadata": {
  "kernelspec": {
   "display_name": "Python 3 (ipykernel)",
   "language": "python",
   "name": "python3"
  },
  "language_info": {
   "codemirror_mode": {
    "name": "ipython",
    "version": 3
   },
   "file_extension": ".py",
   "mimetype": "text/x-python",
   "name": "python",
   "nbconvert_exporter": "python",
   "pygments_lexer": "ipython3",
   "version": "3.9.13"
  }
 },
 "nbformat": 4,
 "nbformat_minor": 5
}
